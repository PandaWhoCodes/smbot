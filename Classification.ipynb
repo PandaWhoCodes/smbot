{
 "cells": [
  {
   "cell_type": "markdown",
   "metadata": {},
   "source": [
    "## Classification"
   ]
  },
  {
   "cell_type": "markdown",
   "metadata": {},
   "source": [
    "Let us start by importing packages"
   ]
  },
  {
   "cell_type": "code",
   "execution_count": 1,
   "metadata": {
    "collapsed": true
   },
   "outputs": [],
   "source": [
    "import nltk\n",
    "from nltk.stem.lancaster import LancasterStemmer\n",
    "import json"
   ]
  },
  {
   "cell_type": "markdown",
   "metadata": {},
   "source": [
    "Stemming is the process of reducing inflected (or sometimes derived) words to their word stem.\n",
    "For example the stem of catlike is cat."
   ]
  },
  {
   "cell_type": "code",
   "execution_count": 2,
   "metadata": {
    "collapsed": true
   },
   "outputs": [],
   "source": [
    "stemmer = LancasterStemmer()"
   ]
  },
  {
   "cell_type": "markdown",
   "metadata": {},
   "source": [
    "training_data consists of the intent we want to match it to and the sentence "
   ]
  },
  {
   "cell_type": "code",
   "execution_count": 3,
   "metadata": {
    "collapsed": true
   },
   "outputs": [],
   "source": [
    "training_data = []\n",
    "training_data.append({\"class\": \"intro\", \"sentence\": \"Who are you?\"})\n",
    "training_data.append({\"class\": \"intro\", \"sentence\": \"Hi\"})\n",
    "training_data.append({\"class\": \"intro\", \"sentence\": \"what do you do?\"})\n",
    "training_data.append({\"class\": \"intro\", \"sentence\": \"what can you do for me?\"})\n",
    "training_data.append({\"class\": \"greet\", \"sentence\": \"Hey\"})\n",
    "training_data.append({\"class\": \"greet\", \"sentence\": \"howdy\"})\n",
    "training_data.append({\"class\": \"greet\", \"sentence\": \"hey there\"})\n",
    "training_data.append({\"class\": \"greet\", \"sentence\": \"hello\"})\n",
    "training_data.append({\"class\": \"affirm\", \"sentence\": \"yes\"})\n",
    "training_data.append({\"class\": \"affirm\", \"sentence\": \"Yeah\"})\n",
    "training_data.append({\"class\": \"affirm\", \"sentence\": \"that\\'s right\"})\n",
    "training_data.append({\"class\": \"goodbye\", \"sentence\": \"Bye\"})\n",
    "training_data.append({\"class\": \"goodbye\", \"sentence\": \"goodbye\"})"
   ]
  },
  {
   "cell_type": "markdown",
   "metadata": {},
   "source": [
    "turn a list into a set (of unique items) and then a list again (this removes duplicates)"
   ]
  },
  {
   "cell_type": "code",
   "execution_count": 5,
   "metadata": {},
   "outputs": [
    {
     "name": "stdout",
     "output_type": "stream",
     "text": [
      "{'affirm': [], 'greet': [], 'goodbye': [], 'intro': []}\n"
     ]
    }
   ],
   "source": [
    "corpus_words = {}\n",
    "class_words = {}\n",
    "classes = list(set([a['class'] for a in training_data]))\n",
    "for c in classes:\n",
    "    class_words[c] = []\n",
    "print(class_words)"
   ]
  },
  {
   "cell_type": "markdown",
   "metadata": {},
   "source": [
    "#### Now we will fill the class words with their respective data"
   ]
  },
  {
   "cell_type": "code",
   "execution_count": 6,
   "metadata": {},
   "outputs": [
    {
     "name": "stdout",
     "output_type": "stream",
     "text": [
      "['who', 'ar', 'you', 'hi', 'what', 'do', 'you', 'do', 'what', 'can', 'you', 'do', 'for', 'me', 'hey', 'howdy', 'hey', 'ther', 'hello', 'ye', 'yeah', 'that', 'right', 'bye', 'goodby']\n",
      "affirm\n",
      "['ye', 'yeah', 'that', 'right']\n",
      "greet\n",
      "['hey', 'howdy', 'hey', 'ther', 'hello']\n",
      "goodbye\n",
      "['bye', 'goodby']\n",
      "intro\n",
      "['who', 'ar', 'you', 'hi', 'what', 'do', 'you', 'do', 'what', 'can', 'you', 'do', 'for', 'me']\n"
     ]
    }
   ],
   "source": [
    "word_stems = []\n",
    "for data in training_data:\n",
    "    # tokenize each sentence into words\n",
    "    for word in nltk.word_tokenize(data['sentence']):\n",
    "        # ignore a few things\n",
    "        if word not in [\"?\", \"'s\"]:\n",
    "            # stem and lowercase each word\n",
    "            stemmed_word = stemmer.stem(word.lower())\n",
    "            word_stems.append(stemmed_word)\n",
    "            if stemmed_word not in corpus_words:\n",
    "                corpus_words[stemmed_word] = 1\n",
    "            else:\n",
    "                corpus_words[stemmed_word] += 1\n",
    "\n",
    "            class_words[data['class']].extend([stemmed_word])\n",
    "print(word_stems)\n",
    "for item in class_words:\n",
    "    print(item)\n",
    "    print(class_words[item])"
   ]
  },
  {
   "cell_type": "code",
   "execution_count": 7,
   "metadata": {},
   "outputs": [
    {
     "name": "stdout",
     "output_type": "stream",
     "text": [
      "Corpus words and counts: {'who': 1, 'ar': 1, 'you': 3, 'hi': 1, 'what': 2, 'do': 3, 'can': 1, 'for': 1, 'me': 1, 'hey': 2, 'howdy': 1, 'ther': 1, 'hello': 1, 'ye': 1, 'yeah': 1, 'that': 1, 'right': 1, 'bye': 1, 'goodby': 1}\n",
      "Class words: {'affirm': ['ye', 'yeah', 'that', 'right'], 'greet': ['hey', 'howdy', 'hey', 'ther', 'hello'], 'goodbye': ['bye', 'goodby'], 'intro': ['who', 'ar', 'you', 'hi', 'what', 'do', 'you', 'do', 'what', 'can', 'you', 'do', 'for', 'me']}\n"
     ]
    }
   ],
   "source": [
    "print(\"Corpus words and counts: %s\" % corpus_words)\n",
    "# also we have all words in each class\n",
    "print(\"Class words: %s\" % class_words)\n",
    "# we can now calculate the Naive Bayes score for a new sentence\n",
    "sentence = \"Hi\""
   ]
  },
  {
   "cell_type": "code",
   "execution_count": 8,
   "metadata": {
    "collapsed": true
   },
   "outputs": [],
   "source": [
    "def calculate_class_score(sentence, class_name):\n",
    "    score = 0\n",
    "    for word in nltk.word_tokenize(sentence):\n",
    "        if word in class_words[class_name]:\n",
    "            score += 1\n",
    "    return score"
   ]
  },
  {
   "cell_type": "code",
   "execution_count": 9,
   "metadata": {},
   "outputs": [
    {
     "name": "stdout",
     "output_type": "stream",
     "text": [
      "Class: affirm  Score: 0\n",
      "Class: greet  Score: 1\n",
      "Class: goodbye  Score: 0\n",
      "Class: intro  Score: 0\n"
     ]
    }
   ],
   "source": [
    "sentence = \"hey guys. What's up?\"\n",
    "for c in class_words.keys():\n",
    "    print (\"Class: %s  Score: %s\" % (c, calculate_class_score(sentence, c)))"
   ]
  },
  {
   "cell_type": "markdown",
   "metadata": {},
   "source": [
    "We can significantly improve our algorithm by accounting for the commonality of each word. The word “is” should carry a lower weigh than the word “python” in most cases, because it is more common."
   ]
  },
  {
   "cell_type": "code",
   "execution_count": 10,
   "metadata": {},
   "outputs": [
    {
     "name": "stdout",
     "output_type": "stream",
     "text": [
      "Class: affirm  Score: 0\n",
      "Class: greet  Score: 0.5\n",
      "Class: goodbye  Score: 0\n",
      "Class: intro  Score: 0\n"
     ]
    }
   ],
   "source": [
    "def calculate_class_score_commonality(sentence, class_name):\n",
    "    score = 0\n",
    "    for word in nltk.word_tokenize(sentence):\n",
    "        if word in class_words[class_name]:\n",
    "            score += (1 / corpus_words[word])\n",
    "    return score\n",
    "\n",
    "\n",
    "# now we can find the class with the highest score\n",
    "for c in class_words.keys():\n",
    "    print (\"Class: %s  Score: %s\" % (c, calculate_class_score_commonality(sentence, c)))"
   ]
  },
  {
   "cell_type": "markdown",
   "metadata": {},
   "source": [
    "##### Lets write a helper function for the above"
   ]
  },
  {
   "cell_type": "code",
   "execution_count": 11,
   "metadata": {
    "collapsed": true
   },
   "outputs": [],
   "source": [
    "def find_class(sentence):\n",
    "    high_class = None\n",
    "    high_score = 0\n",
    "    for c in class_words.keys():\n",
    "        score = calculate_class_score_commonality(sentence, c)\n",
    "        if score > high_score:\n",
    "            high_class = c\n",
    "            high_score = score\n",
    "    return high_class, high_score\n"
   ]
  },
  {
   "cell_type": "code",
   "execution_count": 12,
   "metadata": {},
   "outputs": [
    {
     "name": "stdout",
     "output_type": "stream",
     "text": [
      "('intro', 3.6666666666666665)\n"
     ]
    }
   ],
   "source": [
    "print(find_class(\"Is there anything cool you can do for me?\"))"
   ]
  },
  {
   "cell_type": "code",
   "execution_count": null,
   "metadata": {
    "collapsed": true
   },
   "outputs": [],
   "source": []
  }
 ],
 "metadata": {
  "kernelspec": {
   "display_name": "Python 3",
   "language": "python",
   "name": "python3"
  },
  "language_info": {
   "codemirror_mode": {
    "name": "ipython",
    "version": 3
   },
   "file_extension": ".py",
   "mimetype": "text/x-python",
   "name": "python",
   "nbconvert_exporter": "python",
   "pygments_lexer": "ipython3",
   "version": "3.6.1"
  }
 },
 "nbformat": 4,
 "nbformat_minor": 2
}
